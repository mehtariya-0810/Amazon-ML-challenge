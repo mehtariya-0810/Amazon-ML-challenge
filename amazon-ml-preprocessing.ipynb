{
 "cells": [
  {
   "cell_type": "code",
   "execution_count": 1,
   "id": "d3703bbd",
   "metadata": {
    "execution": {
     "iopub.execute_input": "2021-07-30T19:06:39.488546Z",
     "iopub.status.busy": "2021-07-30T19:06:39.487337Z",
     "iopub.status.idle": "2021-07-30T19:06:39.772112Z",
     "shell.execute_reply": "2021-07-30T19:06:39.771308Z",
     "shell.execute_reply.started": "2021-07-30T18:59:26.588208Z"
    },
    "papermill": {
     "duration": 0.297367,
     "end_time": "2021-07-30T19:06:39.772297",
     "exception": false,
     "start_time": "2021-07-30T19:06:39.474930",
     "status": "completed"
    },
    "tags": []
   },
   "outputs": [],
   "source": [
    "import numpy as np\n",
    "import pandas as pd\n",
    "import csv\n",
    "\n",
    "\n",
    "import time\n",
    "\n",
    "import re\n",
    "from bs4 import BeautifulSoup"
   ]
  },
  {
   "cell_type": "code",
   "execution_count": 2,
   "id": "4b76fd77",
   "metadata": {
    "execution": {
     "iopub.execute_input": "2021-07-30T19:06:39.792856Z",
     "iopub.status.busy": "2021-07-30T19:06:39.792165Z",
     "iopub.status.idle": "2021-07-30T19:07:56.119533Z",
     "shell.execute_reply": "2021-07-30T19:07:56.118844Z",
     "shell.execute_reply.started": "2021-07-30T18:59:29.104276Z"
    },
    "papermill": {
     "duration": 76.340024,
     "end_time": "2021-07-30T19:07:56.119714",
     "exception": false,
     "start_time": "2021-07-30T19:06:39.779690",
     "status": "completed"
    },
    "scrolled": true,
    "tags": []
   },
   "outputs": [],
   "source": [
    "train_path = \"../input/amazon-ml-challenge/train.csv\"\n",
    "test_path = \"../input/amazon-ml-challenge/test.csv\"\n",
    "train_df = pd.read_csv(train_path,escapechar=\"\\\\\",quoting=csv.QUOTE_NONE)\n",
    "test_df = pd.read_csv(test_path,escapechar=\"\\\\\",quoting=csv.QUOTE_NONE)"
   ]
  },
  {
   "cell_type": "code",
   "execution_count": 3,
   "id": "9ba82615",
   "metadata": {
    "execution": {
     "iopub.execute_input": "2021-07-30T19:07:56.153837Z",
     "iopub.status.busy": "2021-07-30T19:07:56.148872Z",
     "iopub.status.idle": "2021-07-30T19:07:56.156537Z",
     "shell.execute_reply": "2021-07-30T19:07:56.155975Z",
     "shell.execute_reply.started": "2021-07-30T19:00:51.724355Z"
    },
    "papermill": {
     "duration": 0.029944,
     "end_time": "2021-07-30T19:07:56.156677",
     "exception": false,
     "start_time": "2021-07-30T19:07:56.126733",
     "status": "completed"
    },
    "tags": []
   },
   "outputs": [],
   "source": [
    "def decontracted(phrase):\n",
    "     # specific\n",
    "    phrase = re.sub(r\"won't\", \"will not\", phrase)\n",
    "    phrase = re.sub(r\"can\\'t\", \"can not\", phrase)\n",
    "\n",
    "    # general\n",
    "    phrase = re.sub(r\"n\\'t\", \" not\", phrase)\n",
    "    phrase = re.sub(r\"\\'re\", \" are\", phrase)\n",
    "    phrase = re.sub(r\"\\'s\", \" is\", phrase)\n",
    "    phrase = re.sub(r\"\\'d\", \" would\", phrase)\n",
    "    phrase = re.sub(r\"\\'ll\", \" will\", phrase)\n",
    "    phrase = re.sub(r\"\\'t\", \" not\", phrase)\n",
    "    phrase = re.sub(r\"\\'ve\", \" have\", phrase)\n",
    "    phrase = re.sub(r\"\\'m\", \" am\", phrase)\n",
    "    return phrase\n",
    "\n",
    "stopwords= set(['br', 'the', 'i', 'me', 'my', 'myself', 'we', 'our', 'ours', 'ourselves', 'you', \"you're\", \"you've\",\\\n",
    "            \"you'll\", \"you'd\", 'your', 'yours', 'yourself', 'yourselves', 'he', 'him', 'his', 'himself', \\\n",
    "            'she', \"she's\", 'her', 'hers', 'herself', 'it', \"it's\", 'its', 'itself', 'they', 'them', 'their',\\\n",
    "            'theirs', 'themselves', 'what', 'which', 'who', 'whom', 'this', 'that', \"that'll\", 'these', 'those', \\\n",
    "            'am', 'is', 'are', 'was', 'were', 'be', 'been', 'being', 'have', 'has', 'had', 'having', 'do', 'does', \\\n",
    "            'did', 'doing', 'a', 'an', 'the', 'and', 'but', 'if', 'or', 'because', 'as', 'until', 'while', 'of', \\\n",
    "            'at', 'by', 'for', 'with', 'about', 'against', 'between', 'into', 'through', 'during', 'before', 'after',\\\n",
    "            'above', 'below', 'to', 'from', 'up', 'down', 'in', 'out', 'on', 'off', 'over', 'under', 'again', 'further',\\\n",
    "            'then', 'once', 'here', 'there', 'when', 'where', 'why', 'how', 'all', 'any', 'both', 'each', 'few', 'more',\\\n",
    "            'most', 'other', 'some', 'such', 'only', 'own', 'same', 'so', 'than', 'too', 'very', \\\n",
    "            's', 't', 'can', 'will', 'just', 'don', \"don't\", 'should', \"should've\", 'now', 'd', 'll', 'm', 'o', 're', \\\n",
    "            've', 'y', 'ain', 'aren', \"aren't\", 'couldn', \"couldn't\", 'didn', \"didn't\", 'doesn', \"doesn't\", 'hadn',\\\n",
    "            \"hadn't\", 'hasn', \"hasn't\", 'haven', \"haven't\", 'isn', \"isn't\", 'ma', 'mightn', \"mightn't\", 'mustn',\\\n",
    "            \"mustn't\", 'needn', \"needn't\", 'shan', \"shan't\", 'shouldn', \"shouldn't\", 'wasn', \"wasn't\", 'weren', \"weren't\", \\\n",
    "            'won', \"won't\", 'wouldn', \"wouldn't\"])\n",
    "\n",
    "def preprocess(sentence):\n",
    "    sentence = str(sentence)\n",
    "    sentence = re.sub(r\"http\\S+\", \"\", sentence)\n",
    "    sentence = BeautifulSoup(sentence, 'lxml').get_text()\n",
    "    sentence = decontracted(sentence)\n",
    "    sentence = re.sub(\"\\S*\\d\\S*\", \"\", sentence).strip()\n",
    "    sentence = re.sub('[^A-Za-z]+', ' ', sentence)\n",
    "    html_pattern = re.compile('<.*?>')\n",
    "    sentence = html_pattern.sub(r'', sentence)\n",
    "    sentence = ' '.join(e.lower() for e in sentence.split() if e.lower() not in stopwords)\n",
    "    \n",
    "    return sentence"
   ]
  },
  {
   "cell_type": "code",
   "execution_count": 4,
   "id": "3201238b",
   "metadata": {
    "execution": {
     "iopub.execute_input": "2021-07-30T19:07:56.259551Z",
     "iopub.status.busy": "2021-07-30T19:07:56.244727Z",
     "iopub.status.idle": "2021-07-30T19:24:29.146790Z",
     "shell.execute_reply": "2021-07-30T19:24:29.147360Z"
    },
    "papermill": {
     "duration": 992.984206,
     "end_time": "2021-07-30T19:24:29.147722",
     "exception": false,
     "start_time": "2021-07-30T19:07:56.163516",
     "status": "completed"
    },
    "tags": []
   },
   "outputs": [
    {
     "data": {
      "text/html": [
       "<div>\n",
       "<style scoped>\n",
       "    .dataframe tbody tr th:only-of-type {\n",
       "        vertical-align: middle;\n",
       "    }\n",
       "\n",
       "    .dataframe tbody tr th {\n",
       "        vertical-align: top;\n",
       "    }\n",
       "\n",
       "    .dataframe thead th {\n",
       "        text-align: right;\n",
       "    }\n",
       "</style>\n",
       "<table border=\"1\" class=\"dataframe\">\n",
       "  <thead>\n",
       "    <tr style=\"text-align: right;\">\n",
       "      <th></th>\n",
       "      <th>TITLE</th>\n",
       "      <th>DESCRIPTION</th>\n",
       "      <th>BULLET_POINTS</th>\n",
       "      <th>BRAND</th>\n",
       "      <th>BROWSE_NODE_ID</th>\n",
       "    </tr>\n",
       "  </thead>\n",
       "  <tbody>\n",
       "    <tr>\n",
       "      <th>0</th>\n",
       "      <td>pete cat bedtime blues doll inch</td>\n",
       "      <td>Pete the Cat is the coolest, most popular cat ...</td>\n",
       "      <td>[Pete the Cat Bedtime Blues plush doll,Based o...</td>\n",
       "      <td>MerryMakers</td>\n",
       "      <td>0</td>\n",
       "    </tr>\n",
       "    <tr>\n",
       "      <th>1</th>\n",
       "      <td>new yorker refrigerator magnet x</td>\n",
       "      <td>The New Yorker Handsome Cello Wrapped Hard Mag...</td>\n",
       "      <td>[Cat In A Tea Cup by New Yorker cover artist G...</td>\n",
       "      <td>The New Yorker</td>\n",
       "      <td>1</td>\n",
       "    </tr>\n",
       "    <tr>\n",
       "      <th>2</th>\n",
       "      <td>ultimate self sufficiency handbook complete gu...</td>\n",
       "      <td>NaN</td>\n",
       "      <td>Skyhorse Publishing</td>\n",
       "      <td>imusti</td>\n",
       "      <td>2</td>\n",
       "    </tr>\n",
       "    <tr>\n",
       "      <th>3</th>\n",
       "      <td>amway nutrilite kids chewable iron tablets</td>\n",
       "      <td>NaN</td>\n",
       "      <td>[Nutrilite Kids,Chewable Iron Tablets,Quantity...</td>\n",
       "      <td>Amway</td>\n",
       "      <td>3</td>\n",
       "    </tr>\n",
       "    <tr>\n",
       "      <th>4</th>\n",
       "      <td>teacher planner company lesson academic teache...</td>\n",
       "      <td>NaN</td>\n",
       "      <td>NaN</td>\n",
       "      <td>NaN</td>\n",
       "      <td>4</td>\n",
       "    </tr>\n",
       "  </tbody>\n",
       "</table>\n",
       "</div>"
      ],
      "text/plain": [
       "                                               TITLE  \\\n",
       "0                   pete cat bedtime blues doll inch   \n",
       "1                   new yorker refrigerator magnet x   \n",
       "2  ultimate self sufficiency handbook complete gu...   \n",
       "3         amway nutrilite kids chewable iron tablets   \n",
       "4  teacher planner company lesson academic teache...   \n",
       "\n",
       "                                         DESCRIPTION  \\\n",
       "0  Pete the Cat is the coolest, most popular cat ...   \n",
       "1  The New Yorker Handsome Cello Wrapped Hard Mag...   \n",
       "2                                                NaN   \n",
       "3                                                NaN   \n",
       "4                                                NaN   \n",
       "\n",
       "                                       BULLET_POINTS           BRAND  \\\n",
       "0  [Pete the Cat Bedtime Blues plush doll,Based o...     MerryMakers   \n",
       "1  [Cat In A Tea Cup by New Yorker cover artist G...  The New Yorker   \n",
       "2                                Skyhorse Publishing          imusti   \n",
       "3  [Nutrilite Kids,Chewable Iron Tablets,Quantity...           Amway   \n",
       "4                                                NaN             NaN   \n",
       "\n",
       "   BROWSE_NODE_ID  \n",
       "0               0  \n",
       "1               1  \n",
       "2               2  \n",
       "3               3  \n",
       "4               4  "
      ]
     },
     "execution_count": 4,
     "metadata": {},
     "output_type": "execute_result"
    }
   ],
   "source": [
    "train_df[\"TITLE\"] = train_df[\"TITLE\"].apply(preprocess)\n",
    "train_df.to_csv(\"./train_processed.csv\",index=False)\n",
    "train_df.head()"
   ]
  },
  {
   "cell_type": "code",
   "execution_count": 5,
   "id": "0137b05d",
   "metadata": {
    "execution": {
     "iopub.execute_input": "2021-07-30T19:24:29.167891Z",
     "iopub.status.busy": "2021-07-30T19:24:29.167232Z",
     "iopub.status.idle": "2021-07-30T19:24:29.170267Z",
     "shell.execute_reply": "2021-07-30T19:24:29.169708Z"
    },
    "papermill": {
     "duration": 0.01531,
     "end_time": "2021-07-30T19:24:29.170417",
     "exception": false,
     "start_time": "2021-07-30T19:24:29.155107",
     "status": "completed"
    },
    "tags": []
   },
   "outputs": [],
   "source": [
    "del train_df"
   ]
  },
  {
   "cell_type": "code",
   "execution_count": 6,
   "id": "b02a7339",
   "metadata": {
    "execution": {
     "iopub.execute_input": "2021-07-30T19:24:29.193719Z",
     "iopub.status.busy": "2021-07-30T19:24:29.193044Z",
     "iopub.status.idle": "2021-07-30T19:25:09.144631Z",
     "shell.execute_reply": "2021-07-30T19:25:09.145167Z",
     "shell.execute_reply.started": "2021-07-30T19:00:51.743923Z"
    },
    "papermill": {
     "duration": 39.967078,
     "end_time": "2021-07-30T19:25:09.145342",
     "exception": false,
     "start_time": "2021-07-30T19:24:29.178264",
     "status": "completed"
    },
    "tags": []
   },
   "outputs": [
    {
     "data": {
      "text/html": [
       "<div>\n",
       "<style scoped>\n",
       "    .dataframe tbody tr th:only-of-type {\n",
       "        vertical-align: middle;\n",
       "    }\n",
       "\n",
       "    .dataframe tbody tr th {\n",
       "        vertical-align: top;\n",
       "    }\n",
       "\n",
       "    .dataframe thead th {\n",
       "        text-align: right;\n",
       "    }\n",
       "</style>\n",
       "<table border=\"1\" class=\"dataframe\">\n",
       "  <thead>\n",
       "    <tr style=\"text-align: right;\">\n",
       "      <th></th>\n",
       "      <th>PRODUCT_ID</th>\n",
       "      <th>TITLE</th>\n",
       "      <th>DESCRIPTION</th>\n",
       "      <th>BULLET_POINTS</th>\n",
       "      <th>BRAND</th>\n",
       "    </tr>\n",
       "  </thead>\n",
       "  <tbody>\n",
       "    <tr>\n",
       "      <th>0</th>\n",
       "      <td>1</td>\n",
       "      <td>command small kitchen hooks white decorate dam...</td>\n",
       "      <td>Sale Unit: PACK</td>\n",
       "      <td>[INCLUDES - 9 hooks and 12 small indoor strips...</td>\n",
       "      <td>Command</td>\n",
       "    </tr>\n",
       "    <tr>\n",
       "      <th>1</th>\n",
       "      <td>2</td>\n",
       "      <td>neal jump hardware jag unisex adult glove blac...</td>\n",
       "      <td>Synthetic leather palm with double-layer thumb...</td>\n",
       "      <td>[Silicone printing for a better grip. Long las...</td>\n",
       "      <td>O'Neal</td>\n",
       "    </tr>\n",
       "    <tr>\n",
       "      <th>2</th>\n",
       "      <td>3</td>\n",
       "      <td>nfl detroit lions portable party fridge quart</td>\n",
       "      <td>Boelter Brands lets you celebrate your favorit...</td>\n",
       "      <td>[Runs on 12 Volt DC Power or 110 Volt AC Power...</td>\n",
       "      <td>Boelter Brands</td>\n",
       "    </tr>\n",
       "    <tr>\n",
       "      <th>3</th>\n",
       "      <td>4</td>\n",
       "      <td>panasonic single line corded phone white</td>\n",
       "      <td>Features: 50 Station Phonebook Corded Phone Al...</td>\n",
       "      <td>Panasonic Landline Phones doesn't come with a ...</td>\n",
       "      <td>Panasonic</td>\n",
       "    </tr>\n",
       "    <tr>\n",
       "      <th>4</th>\n",
       "      <td>5</td>\n",
       "      <td>zero baby girl cotton innerwear bloomer drawer...</td>\n",
       "      <td>Zero Baby Girl Panties Set. 100% Cotton, Breat...</td>\n",
       "      <td>[Zero Baby Girl Panties, Pack of 6, 100% Cotto...</td>\n",
       "      <td>Zero</td>\n",
       "    </tr>\n",
       "  </tbody>\n",
       "</table>\n",
       "</div>"
      ],
      "text/plain": [
       "   PRODUCT_ID                                              TITLE  \\\n",
       "0           1  command small kitchen hooks white decorate dam...   \n",
       "1           2  neal jump hardware jag unisex adult glove blac...   \n",
       "2           3      nfl detroit lions portable party fridge quart   \n",
       "3           4           panasonic single line corded phone white   \n",
       "4           5  zero baby girl cotton innerwear bloomer drawer...   \n",
       "\n",
       "                                         DESCRIPTION  \\\n",
       "0                                    Sale Unit: PACK   \n",
       "1  Synthetic leather palm with double-layer thumb...   \n",
       "2  Boelter Brands lets you celebrate your favorit...   \n",
       "3  Features: 50 Station Phonebook Corded Phone Al...   \n",
       "4  Zero Baby Girl Panties Set. 100% Cotton, Breat...   \n",
       "\n",
       "                                       BULLET_POINTS           BRAND  \n",
       "0  [INCLUDES - 9 hooks and 12 small indoor strips...         Command  \n",
       "1  [Silicone printing for a better grip. Long las...          O'Neal  \n",
       "2  [Runs on 12 Volt DC Power or 110 Volt AC Power...  Boelter Brands  \n",
       "3  Panasonic Landline Phones doesn't come with a ...       Panasonic  \n",
       "4  [Zero Baby Girl Panties, Pack of 6, 100% Cotto...            Zero  "
      ]
     },
     "execution_count": 6,
     "metadata": {},
     "output_type": "execute_result"
    }
   ],
   "source": [
    "test_df[\"TITLE\"] = test_df[\"TITLE\"].apply(preprocess)\n",
    "test_df.to_csv(\"./test_processed.csv\",index=False)\n",
    "test_df.head()"
   ]
  },
  {
   "cell_type": "code",
   "execution_count": 7,
   "id": "f69ac468",
   "metadata": {
    "execution": {
     "iopub.execute_input": "2021-07-30T19:25:09.166047Z",
     "iopub.status.busy": "2021-07-30T19:25:09.165452Z",
     "iopub.status.idle": "2021-07-30T19:25:09.168562Z",
     "shell.execute_reply": "2021-07-30T19:25:09.168049Z"
    },
    "papermill": {
     "duration": 0.015096,
     "end_time": "2021-07-30T19:25:09.168700",
     "exception": false,
     "start_time": "2021-07-30T19:25:09.153604",
     "status": "completed"
    },
    "tags": []
   },
   "outputs": [],
   "source": [
    "#embed = model.encode(train_df[\"TITLE\"][i],batch_size=64,show_progress_bar=True)\n",
    "#cos_scores = util.pytorch_cos_sim(embed,test_embed)[0]"
   ]
  }
 ],
 "metadata": {
  "kernelspec": {
   "display_name": "Python 3",
   "language": "python",
   "name": "python3"
  },
  "language_info": {
   "codemirror_mode": {
    "name": "ipython",
    "version": 3
   },
   "file_extension": ".py",
   "mimetype": "text/x-python",
   "name": "python",
   "nbconvert_exporter": "python",
   "pygments_lexer": "ipython3",
   "version": "3.7.10"
  },
  "papermill": {
   "default_parameters": {},
   "duration": 1121.259413,
   "end_time": "2021-07-30T19:25:11.880883",
   "environment_variables": {},
   "exception": null,
   "input_path": "__notebook__.ipynb",
   "output_path": "__notebook__.ipynb",
   "parameters": {},
   "start_time": "2021-07-30T19:06:30.621470",
   "version": "2.3.3"
  }
 },
 "nbformat": 4,
 "nbformat_minor": 5
}
