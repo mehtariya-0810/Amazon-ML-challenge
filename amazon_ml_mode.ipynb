{
  "nbformat": 4,
  "nbformat_minor": 0,
  "metadata": {
    "colab": {
      "name": "Amazon ML Mode.ipynb",
      "provenance": []
    },
    "kernelspec": {
      "name": "python3",
      "display_name": "Python 3"
    },
    "language_info": {
      "name": "python"
    }
  },
  "cells": [
    {
      "cell_type": "code",
      "metadata": {
        "colab": {
          "base_uri": "https://localhost:8080/"
        },
        "id": "d2Axi7Y_PP7f",
        "outputId": "f8b39a6e-345f-4780-fd99-95875f641b1d"
      },
      "source": [
        "from google.colab import drive\n",
        "drive.mount('/content/gdrive')"
      ],
      "execution_count": null,
      "outputs": [
        {
          "output_type": "stream",
          "text": [
            "Drive already mounted at /content/gdrive; to attempt to forcibly remount, call drive.mount(\"/content/gdrive\", force_remount=True).\n"
          ],
          "name": "stdout"
        }
      ]
    },
    {
      "cell_type": "code",
      "metadata": {
        "id": "aIiuqTDuPYm5"
      },
      "source": [
        "# import necessary libraries\n",
        "import os\n",
        "import pandas as pd\n",
        "import numpy as np\n",
        "from collections import Counter\n",
        "\n",
        "df_list = []\n",
        "path = '/content/gdrive/MyDrive/submission'  # path of directory containing all .csv files to consider\n",
        "\n",
        "for filename in os.listdir(path):\n",
        "    if(len(filename.split(\".\")) > 1):\n",
        "      df = pd.read_csv(path+\"/\"+filename)\n",
        "      df_list.append(df)\n",
        "      del df\n",
        "\n",
        "'''path_new = \"/content/gdrive/MyDrive/submission/adhesh_all_submissions\"\n",
        "for filename in os.listdir(path_new):\n",
        "    df = pd.read_csv(path_new+\"/\"+filename)\n",
        "    df_list.append(df)\n",
        "    del df'''\n",
        "\n",
        "val = []\n",
        "for i in range(len(df_list)):\n",
        "    val.append(df_list[i]['BROWSE_NODE_ID'].values)\n",
        "\n",
        "final_pred = []\n",
        "for i in range(len(val[0])):\n",
        "    l = []\n",
        "    for j in range(len(val)):\n",
        "        l.append(val[j][i])\n",
        "    c = Counter(l)\n",
        "    m = c.most_common(1)[0][0]\n",
        "    final_pred.append(m)\n",
        "\n",
        "result_df = pd.DataFrame.from_dict({\n",
        "    \"PRODUCT_ID\" : df_list[0][\"PRODUCT_ID\"],\n",
        "    \"BROWSE_NODE_ID\" : final_pred,\n",
        "})\n",
        "\n",
        "result_df.to_csv(\"/content/submission.csv\",index=False)"
      ],
      "execution_count": null,
      "outputs": []
    }
  ]
}